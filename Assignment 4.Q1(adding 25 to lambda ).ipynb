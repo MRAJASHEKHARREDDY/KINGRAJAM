{
 "cells": [
  {
   "cell_type": "code",
   "execution_count": 13,
   "id": "fd0fd4a5",
   "metadata": {},
   "outputs": [
    {
     "name": "stdout",
     "output_type": "stream",
     "text": [
      "10\n",
      "35\n"
     ]
    }
   ],
   "source": [
    "r = lambda a : a \n",
    "print(r(10))\n",
    "r = lambda x , y : x + y\n",
    "print(r(10,25))"
   ]
  },
  {
   "cell_type": "code",
   "execution_count": null,
   "id": "558d410b",
   "metadata": {},
   "outputs": [],
   "source": []
  }
 ],
 "metadata": {
  "kernelspec": {
   "display_name": "Python 3",
   "language": "python",
   "name": "python3"
  },
  "language_info": {
   "codemirror_mode": {
    "name": "ipython",
    "version": 3
   },
   "file_extension": ".py",
   "mimetype": "text/x-python",
   "name": "python",
   "nbconvert_exporter": "python",
   "pygments_lexer": "ipython3",
   "version": "3.8.8"
  }
 },
 "nbformat": 4,
 "nbformat_minor": 5
}
